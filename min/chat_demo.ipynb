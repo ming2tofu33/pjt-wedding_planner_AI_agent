{
 "cells": [
  {
   "cell_type": "markdown",
   "id": "c293b032",
   "metadata": {},
   "source": [
    "# 메리루트(MarryRoute) chat_demo\n",
    "\n",
    "**목표:** 파서 → 플래너 업데이트(메모리) → 카탈로그 추천/목록 → 미니 챗 데모 흐름을 한 파일에서 실행"
   ]
  },
  {
   "cell_type": "markdown",
   "id": "5f100ee2",
   "metadata": {},
   "source": [
    "## 0) 경로/모듈 확인"
   ]
  },
  {
   "cell_type": "code",
   "execution_count": null,
   "id": "31666e95",
   "metadata": {},
   "outputs": [],
   "source": [
    "# 필수 경로\n",
    "DB_PATH = \"marryroute.db\"  # 프로젝트 루트에서 실행 권장\n",
    "\n",
    "# 표시는 예쁘게\n",
    "import json, sqlite3, textwrap, os, sys\n",
    "print(\"Python:\", sys.version)\n",
    "print(\"Working dir:\", os.getcwd())\n",
    "print(\"DB exists:\", os.path.exists(DB_PATH))"
   ]
  },
  {
   "cell_type": "markdown",
   "id": "378e0c18",
   "metadata": {},
   "source": [
    "## 1) DB 스키마/테이블 간단 점검"
   ]
  },
  {
   "cell_type": "code",
   "execution_count": null,
   "id": "583e3830",
   "metadata": {},
   "outputs": [],
   "source": [
    "# 주요 테이블 목록 및 간단 점검\n",
    "con = sqlite3.connect(DB_PATH)\n",
    "con.row_factory = sqlite3.Row\n",
    "tables = [r[\"name\"] for r in con.execute(\"SELECT name FROM sqlite_master WHERE type='table'\").fetchall()]\n",
    "print(\"Tables:\", tables)\n",
    "\n",
    "# vendor/offering 칼럼 확인\n",
    "def pragma(table):\n",
    "    try:\n",
    "        rows = con.execute(f\"PRAGMA table_info({table})\").fetchall()\n",
    "        return [{k: row[k] for k in row.keys()} for row in rows]\n",
    "    except Exception as e:\n",
    "        return str(e)\n",
    "\n",
    "print(\"\\nPRAGMA vendor:\", json.dumps(pragma(\"vendor\"), ensure_ascii=False, indent=2))\n",
    "print(\"\\nPRAGMA offering:\", json.dumps(pragma(\"offering\"), ensure_ascii=False, indent=2))\n",
    "\n",
    "# 샘플 카운트\n",
    "def count(table):\n",
    "    try:\n",
    "        return con.execute(f\"SELECT COUNT(*) AS c FROM {table}\").fetchone()[\"c\"]\n",
    "    except Exception as e:\n",
    "        return str(e)\n",
    "\n",
    "for t in [\"user_profile\",\"budget_pref\",\"event\",\"conversation_summary\",\"vendor\",\"offering\"]:\n",
    "    print(f\"{t:>22} :\", count(t))"
   ]
  },
  {
   "cell_type": "markdown",
   "id": "f45df188",
   "metadata": {},
   "source": [
    "## 2) 파서(parser.py) 스모크 테스트\n",
    "- 다양한 문장을 파싱해서 날짜/지역/카테고리 예산/이벤트를 확인"
   ]
  },
  {
   "cell_type": "code",
   "execution_count": null,
   "id": "f1a2f03b",
   "metadata": {},
   "outputs": [],
   "source": [
    "from parser import parse_text\n",
    "\n",
    "tests = [\n",
    "    \"메이크업은 청담역이 좋아\",\n",
    "    \"스튜디오는 청담역에서 찾을래\",\n",
    "    \"드레스 300~400, 메이크업 120 이하, 스튜디오는 홍대입구역\",\n",
    "    \"예식은 교대역에서 할거야\",\n",
    "    \"본식은 10/26 12:00 교대\",\n",
    "]\n",
    "\n",
    "for t in tests:\n",
    "    print(\"\\n--\", t)\n",
    "    print(json.dumps(parse_text(t), ensure_ascii=False, indent=2))"
   ]
  },
  {
   "cell_type": "markdown",
   "id": "51489293",
   "metadata": {},
   "source": [
    "## 3) 플래너 업데이트(planner_update.py) — DB 반영 & 요약"
   ]
  },
  {
   "cell_type": "code",
   "execution_count": null,
   "id": "0000ae71",
   "metadata": {},
   "outputs": [],
   "source": [
    "from planner_update import update_from_text, _fetch_state, build_summary_text\n",
    "\n",
    "def show_state():\n",
    "    st = _fetch_state(DB_PATH)\n",
    "    print(\"요약:\", build_summary_text(st))\n",
    "    print(json.dumps(st, ensure_ascii=False, indent=2))\n",
    "\n",
    "# 지역/예산/이벤트 반영\n",
    "_ = update_from_text(DB_PATH, \"스튜디오는 홍대입구역, 드레스 300~400, 메이크업 120 이하\", dry_run=False)\n",
    "_ = update_from_text(DB_PATH, \"예식은 10/26 12:00 교대역\", dry_run=False)\n",
    "show_state()\n",
    "\n",
    "# 카테고리 지역 '교체' 정책 확인\n",
    "_ = update_from_text(DB_PATH, \"스튜디오는 청담역으로\", dry_run=False)\n",
    "show_state()\n",
    "\n",
    "# 날짜만 바꿔도 기존 위치/예산 유지 확인\n",
    "_ = update_from_text(DB_PATH, \"본식 날짜는 10/27로 바꿔줘\", dry_run=False)\n",
    "show_state()"
   ]
  },
  {
   "cell_type": "markdown",
   "id": "3ea4a2ff",
   "metadata": {},
   "source": [
    "## 4) 이벤트 레코드 확인 (SQL)"
   ]
  },
  {
   "cell_type": "code",
   "execution_count": null,
   "id": "719ebe07",
   "metadata": {},
   "outputs": [],
   "source": [
    "rows = con.execute(\"SELECT event_id,type,title,date,time,location,budget_manwon FROM event ORDER BY event_id\").fetchall()\n",
    "for r in rows:\n",
    "    print(dict(r))"
   ]
  },
  {
   "cell_type": "markdown",
   "id": "02a298b4",
   "metadata": {},
   "source": [
    "## 5) 카탈로그 추천/목록 (catalog_bridge.py) — 지역 우선 → 가격 오름차순"
   ]
  },
  {
   "cell_type": "code",
   "execution_count": null,
   "id": "760287a3",
   "metadata": {},
   "outputs": [],
   "source": [
    "from catalog_bridge import recommend, catalog\n",
    "\n",
    "# 선호를 설정해 둔 뒤 호출하세요. (위 3) 셀에서 선호가 반영됩니다.)\n",
    "print(\"\\n[추천: studio]\")\n",
    "print(json.dumps(recommend(DB_PATH, \"studio\", limit=5), ensure_ascii=False, indent=2))\n",
    "\n",
    "print(\"\\n[목록: hall]\")\n",
    "print(json.dumps(catalog(DB_PATH, \"hall\", limit=10), ensure_ascii=False, indent=2))\n",
    "\n",
    "print(\"\\n[추천: dress]\")\n",
    "print(json.dumps(recommend(DB_PATH, \"dress\", limit=5), ensure_ascii=False, indent=2))\n",
    "\n",
    "print(\"\\n[목록: makeup]\")\n",
    "print(json.dumps(catalog(DB_PATH, \"makeup\", limit=10), ensure_ascii=False, indent=2))"
   ]
  },
  {
   "cell_type": "markdown",
   "id": "2726c3da",
   "metadata": {},
   "source": [
    "## 6) 미니 챗 데모(chat.py) 사용 가이드\n",
    "터미널에서 실행하세요:\n",
    "```bash\n",
    "python chat.py\n",
    "# 예시\n",
    "You> 스튜디오는 청담역, 드레스 300~400, 메이크업 120 이하, 예식은 교대역\n",
    "You> /추천 스튜디오\n",
    "You> /목록 홀\n",
    "You> /summary\n",
    "You> /quit\n",
    "```\n",
    "- `/추천`, `/목록`은 `/recommend`, `/catalog`와 동일합니다.\n",
    "- 정렬: **지역 우선 → 가격 오름차순(NULL은 뒤)**"
   ]
  },
  {
   "cell_type": "markdown",
   "id": "a1fcaecc",
   "metadata": {},
   "source": [
    "## 7) 타임라인(timeline.py) 안내\n",
    "- `timeline.py`가 있다면, 예식일 기준으로 기본 체크리스트를 생성/갱신하도록 호출합니다.\n",
    "- 예시:\n",
    "```bash\n",
    "python timeline.py build --db marryroute.db\n",
    "python timeline.py list  --db marryroute.db\n",
    "```\n",
    "- 기본 이벤트 기준 자동 생성 규칙(DEFAULT_PLAN)은 코드 내 상단 주석을 참고\n"
   ]
  }
 ],
 "metadata": {
  "kernelspec": {
   "display_name": "Python 3",
   "language": "python",
   "name": "python3"
  }
 },
 "nbformat": 4,
 "nbformat_minor": 5
}
